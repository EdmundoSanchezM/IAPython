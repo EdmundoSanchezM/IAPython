{
 "cells": [
  {
   "cell_type": "markdown",
   "id": "52caf9b1",
   "metadata": {},
   "source": [
    "# Functions"
   ]
  },
  {
   "cell_type": "code",
   "execution_count": 1,
   "id": "ca139ea1",
   "metadata": {},
   "outputs": [
    {
     "name": "stdout",
     "output_type": "stream",
     "text": [
      "Hello\n"
     ]
    }
   ],
   "source": [
    "def greetings():\n",
    "    print('Hello')\n",
    "\n",
    "greetings()"
   ]
  },
  {
   "cell_type": "code",
   "execution_count": 3,
   "id": "3f63dc71",
   "metadata": {},
   "outputs": [
    {
     "data": {
      "text/plain": [
       "50.2656"
      ]
     },
     "execution_count": 3,
     "metadata": {},
     "output_type": "execute_result"
    }
   ],
   "source": [
    "def square_area(lado):\n",
    "    return lado ** 2\n",
    "\n",
    "square_area(10)\n",
    "\n",
    "def circle_area(radio):\n",
    "    pi = 3.1416\n",
    "    return pi*radio**2\n",
    "\n",
    "circle_area(4)"
   ]
  },
  {
   "cell_type": "code",
   "execution_count": 5,
   "id": "af000eaf",
   "metadata": {},
   "outputs": [
    {
     "data": {
      "text/plain": [
       "25"
      ]
     },
     "execution_count": 5,
     "metadata": {},
     "output_type": "execute_result"
    }
   ],
   "source": [
    "def square_area(lado=5):\n",
    "    return lado ** 2\n",
    "square_area()"
   ]
  },
  {
   "cell_type": "markdown",
   "id": "da047927",
   "metadata": {},
   "source": [
    "# Lambda Functions"
   ]
  },
  {
   "cell_type": "code",
   "execution_count": 2,
   "id": "9be20d2d",
   "metadata": {},
   "outputs": [
    {
     "data": {
      "text/plain": [
       "15"
      ]
     },
     "execution_count": 2,
     "metadata": {},
     "output_type": "execute_result"
    }
   ],
   "source": [
    "def multiply(x):\n",
    "    return x * 5\n",
    "\n",
    "multiply(3)"
   ]
  },
  {
   "cell_type": "code",
   "execution_count": 5,
   "id": "66279879",
   "metadata": {},
   "outputs": [
    {
     "data": {
      "text/plain": [
       "15"
      ]
     },
     "execution_count": 5,
     "metadata": {},
     "output_type": "execute_result"
    }
   ],
   "source": [
    "multiply_lamda = lambda x: x * 5\n",
    "multiply_lamda(3)"
   ]
  },
  {
   "cell_type": "code",
   "execution_count": 8,
   "id": "83395e29",
   "metadata": {},
   "outputs": [
    {
     "data": {
      "text/plain": [
       "True"
      ]
     },
     "execution_count": 8,
     "metadata": {},
     "output_type": "execute_result"
    }
   ],
   "source": [
    "divisible = lambda x,y: x % y == 0\n",
    "divisible(6,3)"
   ]
  },
  {
   "cell_type": "code",
   "execution_count": 11,
   "id": "1cee3c7d",
   "metadata": {},
   "outputs": [
    {
     "data": {
      "text/plain": [
       "[False, True, True, True]"
      ]
     },
     "execution_count": 11,
     "metadata": {},
     "output_type": "execute_result"
    }
   ],
   "source": [
    "# filter\n",
    "numbers = [4,6,9,2]\n",
    "\n",
    "def multiplo_dos(x):\n",
    "    return x % 2 ==0\n",
    "\n",
    "list(filter(multiplo_dos,numbers))\n",
    "\n",
    "list(filter(lambda x: x%2==0,numbers))"
   ]
  },
  {
   "cell_type": "code",
   "execution_count": 20,
   "id": "c0d79a55",
   "metadata": {},
   "outputs": [
    {
     "data": {
      "text/plain": [
       "[24, 36, 54, 12]"
      ]
     },
     "execution_count": 20,
     "metadata": {},
     "output_type": "execute_result"
    }
   ],
   "source": [
    "#map\n",
    "numbers = [4,6,9,2]\n",
    "\n",
    "def multiplo_dos(x):\n",
    "    return x % 2 ==0\n",
    "\n",
    "list(map(multiplo_dos,numbers))\n",
    "\n",
    "list(map(lambda x: x * 6,numbers))"
   ]
  },
  {
   "cell_type": "code",
   "execution_count": 26,
   "id": "29d171df",
   "metadata": {},
   "outputs": [
    {
     "name": "stdout",
     "output_type": "stream",
     "text": [
      "['Mary', 'Jose']\n",
      "[True, False, False, True]\n"
     ]
    }
   ],
   "source": [
    "things = ['Mary','food','laptop','Jose']\n",
    "#filter\n",
    "\n",
    "names = list(filter(lambda x : x[0].isupper(), things))\n",
    "print(names)\n",
    "\n",
    "#map\n",
    "check_name = list(map(lambda x:x[0].isupper(),things))\n",
    "print(check_name)"
   ]
  },
  {
   "cell_type": "code",
   "execution_count": null,
   "id": "b4c6afaa",
   "metadata": {},
   "outputs": [],
   "source": []
  }
 ],
 "metadata": {
  "kernelspec": {
   "display_name": "Python 3 (ipykernel)",
   "language": "python",
   "name": "python3"
  },
  "language_info": {
   "codemirror_mode": {
    "name": "ipython",
    "version": 3
   },
   "file_extension": ".py",
   "mimetype": "text/x-python",
   "name": "python",
   "nbconvert_exporter": "python",
   "pygments_lexer": "ipython3",
   "version": "3.9.7"
  }
 },
 "nbformat": 4,
 "nbformat_minor": 5
}
