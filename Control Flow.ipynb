{
 "cells": [
  {
   "cell_type": "markdown",
   "id": "f9a6a70d",
   "metadata": {},
   "source": [
    "# Control Flow"
   ]
  },
  {
   "cell_type": "markdown",
   "id": "8bf17174",
   "metadata": {},
   "source": [
    "### 1. if"
   ]
  },
  {
   "cell_type": "code",
   "execution_count": 7,
   "id": "0bc09ff9",
   "metadata": {},
   "outputs": [
    {
     "name": "stdout",
     "output_type": "stream",
     "text": [
      "stay home\n",
      "[]\n",
      "\n"
     ]
    }
   ],
   "source": [
    "x, y = 12, 20\n",
    "if(x>y):\n",
    "    print('{} es mayor a {}'.format(x,y))\n",
    "    \n",
    "season = 'winter'\n",
    "list_friends = []\n",
    "beach_name = ''\n",
    "\n",
    "if(season == 'summer'):\n",
    "    print('go to the beach')\n",
    "    list_friends = ['Carmen','Jose']\n",
    "    beach_name = 'Rio de Janeiro'\n",
    "else:\n",
    "    print('stay home')\n",
    "    \n",
    "print(list_friends)\n",
    "print(beach_name)"
   ]
  },
  {
   "cell_type": "code",
   "execution_count": 9,
   "id": "ce2ba8b6",
   "metadata": {},
   "outputs": [
    {
     "name": "stdout",
     "output_type": "stream",
     "text": [
      "Presupuesto total 1000\n"
     ]
    }
   ],
   "source": [
    "budget = 500\n",
    "holidays = 'New York'\n",
    "\n",
    "if (holidays == 'New York'):\n",
    "    budget = 1000\n",
    "elif (holidays == 'India'):\n",
    "    budget = 200\n",
    "elif (holidays == 'Brazil'):\n",
    "    budget = 1500\n",
    "else:\n",
    "    budget = 50\n",
    "print('Presupuesto total {}'.format(budget))"
   ]
  },
  {
   "cell_type": "markdown",
   "id": "e433bdca",
   "metadata": {},
   "source": [
    "### 2. For en listas"
   ]
  },
  {
   "cell_type": "code",
   "execution_count": 14,
   "id": "34dca0e3",
   "metadata": {},
   "outputs": [
    {
     "name": "stdout",
     "output_type": "stream",
     "text": [
      "1\n",
      "2\n",
      "3\n",
      "4\n",
      "0\n",
      "2\n",
      "4\n",
      "6\n",
      "8\n"
     ]
    }
   ],
   "source": [
    "numbers = [1, 2, 3, 4]\n",
    "for number in numbers:\n",
    "    print(number)\n",
    "\n",
    "for number in range(0, 10, 2):#de n a m-l, donde (n,m,l) y number = n+l\n",
    "    print(number)"
   ]
  },
  {
   "cell_type": "code",
   "execution_count": 17,
   "id": "c4686156",
   "metadata": {},
   "outputs": [
    {
     "name": "stdout",
     "output_type": "stream",
     "text": [
      "['white', 'black', 'red']\n",
      "['WHITE', 'BLACK', 'RED']\n"
     ]
    }
   ],
   "source": [
    "colors = ['White','Black','Red']\n",
    "lower_colors = []\n",
    "capitalized_colors = []\n",
    "for color in colors:\n",
    "    lower_colors.append(color.lower())\n",
    "    capitalized_colors.append(color.upper())\n",
    "print(lower_colors)\n",
    "print(capitalized_colors)"
   ]
  },
  {
   "cell_type": "markdown",
   "id": "68e7bb68",
   "metadata": {},
   "source": [
    "### 3. For en diccionarios"
   ]
  },
  {
   "cell_type": "code",
   "execution_count": 19,
   "id": "b75dd3a8",
   "metadata": {},
   "outputs": [
    {
     "name": "stdout",
     "output_type": "stream",
     "text": [
      "Mary\n",
      "Pablo\n",
      "30\n",
      "45\n",
      "Mary 30\n",
      "Pablo 45\n"
     ]
    }
   ],
   "source": [
    "students = {'Mary':30,'Pablo':45}\n",
    "for student in students:\n",
    "    print(student)\n",
    "for student in students.values():\n",
    "    print(student)\n",
    "for name, age in students.items():\n",
    "    print(name, age)"
   ]
  },
  {
   "cell_type": "code",
   "execution_count": 21,
   "id": "715b9f79",
   "metadata": {},
   "outputs": [
    {
     "name": "stdout",
     "output_type": "stream",
     "text": [
      "14\n"
     ]
    }
   ],
   "source": [
    "fruits = {'orange': 4,'apples': 10 }\n",
    "count = 0\n",
    "for element in fruits.values():\n",
    "    count += element\n",
    "print(count)"
   ]
  },
  {
   "cell_type": "markdown",
   "id": "99ad47eb",
   "metadata": {},
   "source": [
    "### 4. While"
   ]
  },
  {
   "cell_type": "code",
   "execution_count": 22,
   "id": "0a06922b",
   "metadata": {},
   "outputs": [
    {
     "name": "stdout",
     "output_type": "stream",
     "text": [
      "count 0\n",
      "count 1\n",
      "count 2\n",
      "count 3\n",
      "count 4\n"
     ]
    }
   ],
   "source": [
    "count = 0\n",
    "while(count < 5):\n",
    "    print('count {}'.format(count))\n",
    "    count += 1"
   ]
  },
  {
   "cell_type": "code",
   "execution_count": 23,
   "id": "299959e2",
   "metadata": {},
   "outputs": [
    {
     "name": "stdout",
     "output_type": "stream",
     "text": [
      "[13, 8]\n"
     ]
    }
   ],
   "source": [
    "cards = [4 , 2, 8, 13]\n",
    "my_cards =[]\n",
    "\n",
    "while sum(my_cards) < 21:\n",
    "    my_cards.append(cards.pop())\n",
    "print(my_cards)"
   ]
  },
  {
   "cell_type": "markdown",
   "id": "88ce6b91",
   "metadata": {},
   "source": [
    "### 5. Break & Continue"
   ]
  },
  {
   "cell_type": "code",
   "execution_count": 1,
   "id": "039d1169",
   "metadata": {},
   "outputs": [
    {
     "name": "stdout",
     "output_type": "stream",
     "text": [
      "April 610\n"
     ]
    }
   ],
   "source": [
    "# break \n",
    "future_savings = {'January':130, 'February': 160,  'March': 180,'April':140,'May':90}\n",
    "final_mounth = ''\n",
    "total = 0\n",
    "\n",
    "for mounth, money in future_savings.items():\n",
    "    total += money\n",
    "    if( total >= 500):\n",
    "        final_mounth = mounth\n",
    "        break\n",
    "print(final_mounth,total)"
   ]
  },
  {
   "cell_type": "code",
   "execution_count": 2,
   "id": "86ee47d8",
   "metadata": {},
   "outputs": [
    {
     "name": "stdout",
     "output_type": "stream",
     "text": [
      " 520\n"
     ]
    }
   ],
   "source": [
    "# continue \n",
    "future_savings = {'January':130, 'February': 160,  'March': 180,'April':140,'May':90}\n",
    "final_mounth = ''\n",
    "total = 0\n",
    "\n",
    "for mounth, money in future_savings.items():\n",
    "    if( mounth == 'March'):\n",
    "        continue\n",
    "    total += money\n",
    "    \n",
    "print(final_mounth,total)"
   ]
  },
  {
   "cell_type": "markdown",
   "id": "267a027b",
   "metadata": {},
   "source": [
    "### 6. Zip"
   ]
  },
  {
   "cell_type": "code",
   "execution_count": 7,
   "id": "1d35ad09",
   "metadata": {},
   "outputs": [
    {
     "name": "stdout",
     "output_type": "stream",
     "text": [
      "HTTP OK main.html\n",
      "HTTP NOT FOUND index.html\n",
      "[('HTTP OK', 'main.html'), ('HTTP NOT FOUND', 'index.html')]\n",
      "('HTTP OK', 'HTTP NOT FOUND') ('main.html', 'index.html')\n"
     ]
    }
   ],
   "source": [
    "status_logs = ['HTTP OK','HTTP NOT FOUND']\n",
    "page_logs = ['main.html', 'index.html']\n",
    "\n",
    "for status,page in zip(status_logs,page_logs):\n",
    "    print(status,page)\n",
    "    \n",
    "list_logs = list(zip(status_logs,page_logs))\n",
    "print(list_logs)\n",
    "\n",
    "tuple_status, tuple_page = zip(*list_logs)\n",
    "print(tuple_status, tuple_page)"
   ]
  },
  {
   "cell_type": "code",
   "execution_count": 9,
   "id": "093360fd",
   "metadata": {},
   "outputs": [
    {
     "name": "stdout",
     "output_type": "stream",
     "text": [
      "Brazil Brasilia\n",
      "Chile Santiago\n",
      "China Pekin\n"
     ]
    }
   ],
   "source": [
    "countries = ['Brazil','Chile','China']\n",
    "capitals = ['Brasilia','Santiago','Pekin']\n",
    "\n",
    "for country, capital in zip(countries,capitals):\n",
    "    print(country,capital)"
   ]
  },
  {
   "cell_type": "markdown",
   "id": "7af823d6",
   "metadata": {},
   "source": [
    "### 7. Enumerate"
   ]
  },
  {
   "cell_type": "code",
   "execution_count": 10,
   "id": "9b0359aa",
   "metadata": {},
   "outputs": [
    {
     "name": "stdout",
     "output_type": "stream",
     "text": [
      "0 Mary\n",
      "1 Paul\n",
      "2 Carol\n",
      "3 Luis\n"
     ]
    }
   ],
   "source": [
    "students = ['Mary','Paul','Carol','Luis']\n",
    "for index, name in enumerate(students):\n",
    "    print(index,name)"
   ]
  },
  {
   "cell_type": "code",
   "execution_count": 11,
   "id": "edb3c24f",
   "metadata": {},
   "outputs": [
    {
     "name": "stdout",
     "output_type": "stream",
     "text": [
      "0 laptop\n",
      "1 celular\n",
      "2 desktop\n",
      "3 book\n"
     ]
    }
   ],
   "source": [
    "things = ['laptop','celular','desktop','book']\n",
    "for index, name in enumerate(things):\n",
    "    print(index,name)"
   ]
  },
  {
   "cell_type": "code",
   "execution_count": null,
   "id": "f05b0b62",
   "metadata": {},
   "outputs": [],
   "source": []
  }
 ],
 "metadata": {
  "kernelspec": {
   "display_name": "Python 3 (ipykernel)",
   "language": "python",
   "name": "python3"
  },
  "language_info": {
   "codemirror_mode": {
    "name": "ipython",
    "version": 3
   },
   "file_extension": ".py",
   "mimetype": "text/x-python",
   "name": "python",
   "nbconvert_exporter": "python",
   "pygments_lexer": "ipython3",
   "version": "3.9.7"
  }
 },
 "nbformat": 4,
 "nbformat_minor": 5
}
