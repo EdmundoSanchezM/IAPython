{
 "cells": [
  {
   "cell_type": "markdown",
   "id": "1a1d8ac3",
   "metadata": {},
   "source": [
    "# Numpy"
   ]
  },
  {
   "cell_type": "markdown",
   "id": "0211fe18",
   "metadata": {},
   "source": [
    "## Intro"
   ]
  },
  {
   "cell_type": "code",
   "execution_count": 66,
   "id": "eb4e8484",
   "metadata": {},
   "outputs": [
    {
     "name": "stdout",
     "output_type": "stream",
     "text": [
      "7.960070371627808\n",
      "0.1538372039794922\n"
     ]
    }
   ],
   "source": [
    "import numpy as np\n",
    "import time \n",
    "\n",
    "x = np.random.random(100000000)\n",
    "\n",
    "# a manita\n",
    "startM = time.time()\n",
    "sum(x) / len(x)\n",
    "print(time.time() - startM)\n",
    "\n",
    "#numpy\n",
    "startM = time.time()\n",
    "np.mean(x)\n",
    "print(time.time() - startM)\n",
    "\n"
   ]
  },
  {
   "cell_type": "markdown",
   "id": "1ecc682f",
   "metadata": {},
   "source": [
    "## Acceder, insertar y eliminar elementos"
   ]
  },
  {
   "cell_type": "code",
   "execution_count": 1,
   "id": "a74b2639",
   "metadata": {},
   "outputs": [],
   "source": [
    "import numpy as np"
   ]
  },
  {
   "cell_type": "code",
   "execution_count": 3,
   "id": "dc93d5bb",
   "metadata": {},
   "outputs": [
    {
     "name": "stdout",
     "output_type": "stream",
     "text": [
      "1\n",
      "4\n",
      "4\n",
      "3\n"
     ]
    }
   ],
   "source": [
    "# acceder\n",
    "x = np.array([1,2,3,4])\n",
    "print(x[0])\n",
    "print(x[3])\n",
    "\n",
    "print(x[-1])\n",
    "print(x[-2])"
   ]
  },
  {
   "cell_type": "code",
   "execution_count": 6,
   "id": "b6d0b742",
   "metadata": {},
   "outputs": [
    {
     "name": "stdout",
     "output_type": "stream",
     "text": [
      "[30  2  3 60]\n"
     ]
    }
   ],
   "source": [
    "x[0] = 30\n",
    "x[-1] = 60\n",
    "print(x)"
   ]
  },
  {
   "cell_type": "code",
   "execution_count": 11,
   "id": "3a81cf65",
   "metadata": {},
   "outputs": [
    {
     "name": "stdout",
     "output_type": "stream",
     "text": [
      "[[1 2 3]\n",
      " [4 5 6]]\n",
      "4\n",
      "[[ 1 20  3]\n",
      " [ 4  5  6]]\n"
     ]
    }
   ],
   "source": [
    "x = np.array([[1,2,3],[4,5,6]])\n",
    "print(x)\n",
    "\n",
    "print(x[1,0])\n",
    "x[0,1]=20\n",
    "\n",
    "print(x)"
   ]
  },
  {
   "cell_type": "code",
   "execution_count": 23,
   "id": "0cc3ea2d",
   "metadata": {},
   "outputs": [
    {
     "name": "stdout",
     "output_type": "stream",
     "text": [
      "[1 2 3 4]\n",
      "[2]\n"
     ]
    }
   ],
   "source": [
    "# delete\n",
    "x = np.array([1,2,3,4])\n",
    "print(x)\n",
    "\n",
    "x = np.delete(x,0)\n",
    "x = np.delete(x,[1,-1])\n",
    "print(x)"
   ]
  },
  {
   "cell_type": "code",
   "execution_count": 29,
   "id": "41cff089",
   "metadata": {},
   "outputs": [
    {
     "name": "stdout",
     "output_type": "stream",
     "text": [
      "[[1 2 3]\n",
      " [4 5 6]]\n",
      "[[4 5 6]]\n",
      "[[2 3]\n",
      " [5 6]]\n"
     ]
    }
   ],
   "source": [
    "x = np.array([[1,2,3],[4,5,6]])\n",
    "print(x)\n",
    "\n",
    "fila = np.delete(x,0, axis = 0)\n",
    "columna = np.delete(x,0, axis = 1)\n",
    "\n",
    "print(fila)\n",
    "print(columna)\n"
   ]
  },
  {
   "cell_type": "code",
   "execution_count": 35,
   "id": "3a0e51f5",
   "metadata": {},
   "outputs": [
    {
     "name": "stdout",
     "output_type": "stream",
     "text": [
      "[1 2 3 4 5]\n",
      "[1 2 3 4 5 6 7 8 9 0]\n"
     ]
    }
   ],
   "source": [
    "#append. Agregar al final\n",
    "x = np.array([1,2,3,4])\n",
    "x = np.append(x, 5)\n",
    "print(x)\n",
    "y = np.array([6,7,8,9,0])\n",
    "x = np.append(x, y)\n",
    "print(x)"
   ]
  },
  {
   "cell_type": "code",
   "execution_count": 39,
   "id": "44c78cad",
   "metadata": {},
   "outputs": [
    {
     "name": "stdout",
     "output_type": "stream",
     "text": [
      "[[1 2 3]\n",
      " [4 5 6]]\n",
      "[[1 2 3]\n",
      " [4 5 6]\n",
      " [7 8 9]]\n",
      "[[ 1  2  3 10]\n",
      " [ 4  5  6 11]]\n"
     ]
    }
   ],
   "source": [
    "x = np.array([[1,2,3],[4,5,6]])\n",
    "print(x)\n",
    "fila = np.append(x , [[7,8,9]],axis=0)\n",
    "print(fila)\n",
    "columna = np.append(x , [[10],[11]],axis=1)\n",
    "print(columna)"
   ]
  },
  {
   "cell_type": "code",
   "execution_count": 41,
   "id": "65419ff4",
   "metadata": {},
   "outputs": [
    {
     "name": "stdout",
     "output_type": "stream",
     "text": [
      "[1 2 5 3 4]\n",
      "[1 2 6 7 8 9 0 5 3 4]\n"
     ]
    }
   ],
   "source": [
    "#insert. Agregar\n",
    "x = np.array([1,2,3,4])\n",
    "x = np.insert(x, 2, 5)\n",
    "print(x)\n",
    "y = np.array([6,7,8,9,0])\n",
    "x = np.insert(x, 2, y)\n",
    "print(x)"
   ]
  },
  {
   "cell_type": "code",
   "execution_count": 49,
   "id": "4fb8d9af",
   "metadata": {},
   "outputs": [
    {
     "name": "stdout",
     "output_type": "stream",
     "text": [
      "[[1 2 3]\n",
      " [4 5 6]]\n",
      "[[1 2 3]\n",
      " [7 8 9]\n",
      " [4 5 6]]\n",
      "[[ 1 10  2  3]\n",
      " [ 4 10  5  6]]\n"
     ]
    }
   ],
   "source": [
    "x = np.array([[1,2,3],[4,5,6]])\n",
    "print(x)\n",
    "fila = np.insert(x , 1 , [7,8,9],axis=0)\n",
    "print(fila)\n",
    "columna = np.insert(x , 1, 10,axis=1)\n",
    "print(columna)"
   ]
  },
  {
   "cell_type": "code",
   "execution_count": 62,
   "id": "68d613f2",
   "metadata": {},
   "outputs": [
    {
     "name": "stdout",
     "output_type": "stream",
     "text": [
      "[[1 2]\n",
      " [3 4]\n",
      " [5 6]]\n",
      "[[1 2]\n",
      " [3 4]\n",
      " [5 6]]\n",
      "[[3 4]\n",
      " [5 6]\n",
      " [1 2]]\n",
      "[[3 4]\n",
      " [5 6]\n",
      " [1 2]]\n"
     ]
    }
   ],
   "source": [
    "#vstack\n",
    "x = np.array([1,2])\n",
    "y = np.array([[3,4],[5,6]])\n",
    "\n",
    "z = np.vstack((x,y))\n",
    "print(z)\n",
    "z = np.insert(y,0,[x],axis=0)\n",
    "print(z)\n",
    "\n",
    "z = np.vstack((y,x))\n",
    "print(z)\n",
    "z = np.append(y,[x],axis=0)\n",
    "print(z)\n"
   ]
  },
  {
   "cell_type": "markdown",
   "id": "fd79328c",
   "metadata": {},
   "source": [
    "## Creacion array con Numpy"
   ]
  },
  {
   "cell_type": "markdown",
   "id": "a739d218",
   "metadata": {},
   "source": [
    "### Python List"
   ]
  },
  {
   "cell_type": "code",
   "execution_count": 2,
   "id": "71670663",
   "metadata": {},
   "outputs": [
    {
     "data": {
      "text/plain": [
       "array([4, 5, 6, 7])"
      ]
     },
     "execution_count": 2,
     "metadata": {},
     "output_type": "execute_result"
    }
   ],
   "source": [
    "import numpy as np\n",
    "\n",
    "x = np.array([4,5,6,7])\n",
    "x"
   ]
  },
  {
   "cell_type": "code",
   "execution_count": 3,
   "id": "40e4c652",
   "metadata": {},
   "outputs": [
    {
     "name": "stdout",
     "output_type": "stream",
     "text": [
      "(4,)\n",
      "<class 'numpy.ndarray'>\n",
      "int32\n"
     ]
    }
   ],
   "source": [
    "#shape\n",
    "print(x.shape)\n",
    "\n",
    "#type\n",
    "print(type(x))\n",
    "\n",
    "#dtype\n",
    "print(x.dtype)"
   ]
  },
  {
   "cell_type": "code",
   "execution_count": 4,
   "id": "7f2c2b5a",
   "metadata": {},
   "outputs": [
    {
     "name": "stdout",
     "output_type": "stream",
     "text": [
      "(2,)\n",
      "<class 'numpy.ndarray'>\n",
      "<U5\n"
     ]
    }
   ],
   "source": [
    "x = np.array(['Hello','there'])\n",
    "print(x.shape)\n",
    "print(type(x))\n",
    "print(x.dtype)"
   ]
  },
  {
   "cell_type": "code",
   "execution_count": 5,
   "id": "b91db4bd",
   "metadata": {},
   "outputs": [
    {
     "data": {
      "text/plain": [
       "array(['3', '5', '6', 'Hello'], dtype='<U11')"
      ]
     },
     "execution_count": 5,
     "metadata": {},
     "output_type": "execute_result"
    }
   ],
   "source": [
    "y = np.array([3,5,6,'Hello'])\n",
    "y"
   ]
  },
  {
   "cell_type": "code",
   "execution_count": 10,
   "id": "cbcaf2fe",
   "metadata": {},
   "outputs": [
    {
     "name": "stdout",
     "output_type": "stream",
     "text": [
      "[[1 2 3]\n",
      " [4 5 6]]\n",
      "(2, 3)\n",
      "<class 'numpy.ndarray'>\n",
      "int64\n"
     ]
    }
   ],
   "source": [
    "x = np.array([[1,2,3.5],[4,5,6]], dtype=np.int64)\n",
    "print(x)\n",
    "print(x.shape)\n",
    "print(type(x))\n",
    "print(x.dtype)"
   ]
  },
  {
   "cell_type": "markdown",
   "id": "baefdff2",
   "metadata": {},
   "source": [
    "### Numpy Functions"
   ]
  },
  {
   "cell_type": "code",
   "execution_count": 11,
   "id": "e4ddd4de",
   "metadata": {},
   "outputs": [],
   "source": [
    "import numpy as np"
   ]
  },
  {
   "cell_type": "code",
   "execution_count": 14,
   "id": "5c9cc8d2",
   "metadata": {},
   "outputs": [
    {
     "name": "stdout",
     "output_type": "stream",
     "text": [
      "[[0 0 0 0]\n",
      " [0 0 0 0]\n",
      " [0 0 0 0]]\n",
      "(3, 4)\n",
      "<class 'numpy.ndarray'>\n",
      "int32\n"
     ]
    }
   ],
   "source": [
    "#zeros\n",
    "x = np.zeros((3,4), dtype=int)\n",
    "print(x)\n",
    "print(x.shape)\n",
    "print(type(x))\n",
    "print(x.dtype)"
   ]
  },
  {
   "cell_type": "code",
   "execution_count": 15,
   "id": "ff25a872",
   "metadata": {},
   "outputs": [
    {
     "name": "stdout",
     "output_type": "stream",
     "text": [
      "[[1 1 1 1]\n",
      " [1 1 1 1]\n",
      " [1 1 1 1]]\n",
      "(3, 4)\n",
      "<class 'numpy.ndarray'>\n",
      "int32\n"
     ]
    }
   ],
   "source": [
    "#ones\n",
    "x = np.ones((3,4), dtype=int)\n",
    "print(x)\n",
    "print(x.shape)\n",
    "print(type(x))\n",
    "print(x.dtype)"
   ]
  },
  {
   "cell_type": "code",
   "execution_count": 21,
   "id": "575f6304",
   "metadata": {},
   "outputs": [
    {
     "name": "stdout",
     "output_type": "stream",
     "text": [
      "[[4 4 4 4]\n",
      " [4 4 4 4]\n",
      " [4 4 4 4]]\n",
      "(3, 4)\n",
      "<class 'numpy.ndarray'>\n",
      "int32\n"
     ]
    }
   ],
   "source": [
    "#full\n",
    "x = np.full((3,4), 4)\n",
    "print(x)\n",
    "print(x.shape)\n",
    "print(type(x))\n",
    "print(x.dtype)"
   ]
  },
  {
   "cell_type": "code",
   "execution_count": 23,
   "id": "a498cde3",
   "metadata": {},
   "outputs": [
    {
     "name": "stdout",
     "output_type": "stream",
     "text": [
      "[[1. 0. 0.]\n",
      " [0. 1. 0.]\n",
      " [0. 0. 1.]]\n",
      "(3, 3)\n",
      "<class 'numpy.ndarray'>\n",
      "float64\n"
     ]
    }
   ],
   "source": [
    "#eye\n",
    "x = np.eye(3)\n",
    "print(x)\n",
    "print(x.shape)\n",
    "print(type(x))\n",
    "print(x.dtype)"
   ]
  },
  {
   "cell_type": "code",
   "execution_count": 27,
   "id": "2d6c0609",
   "metadata": {},
   "outputs": [
    {
     "name": "stdout",
     "output_type": "stream",
     "text": [
      "[[0 0 0 0 0 0]\n",
      " [0 1 0 0 0 0]\n",
      " [0 0 2 0 0 0]\n",
      " [0 0 0 3 0 0]\n",
      " [0 0 0 0 4 0]\n",
      " [0 0 0 0 0 5]]\n",
      "(6, 6)\n",
      "<class 'numpy.ndarray'>\n",
      "int32\n"
     ]
    }
   ],
   "source": [
    "#diag\n",
    "x = np.diag([0,1,2,3,4,5])\n",
    "print(x)\n",
    "print(x.shape)\n",
    "print(type(x))\n",
    "print(x.dtype)"
   ]
  },
  {
   "cell_type": "code",
   "execution_count": 32,
   "id": "8116a61b",
   "metadata": {},
   "outputs": [
    {
     "name": "stdout",
     "output_type": "stream",
     "text": [
      "[0 1 2 3 4 5 6 7 8 9]\n",
      "[4 5 6 7 8 9]\n",
      "[4 6 8]\n"
     ]
    }
   ],
   "source": [
    "#arange\n",
    "x = np.arange(10)\n",
    "print(x)\n",
    "\n",
    "x = np.arange(4,10)\n",
    "print(x)\n",
    "\n",
    "x = np.arange(4,10, 2)\n",
    "print(x)"
   ]
  },
  {
   "cell_type": "code",
   "execution_count": 47,
   "id": "83f16475",
   "metadata": {},
   "outputs": [
    {
     "name": "stdout",
     "output_type": "stream",
     "text": [
      "[ 4.   5.2  6.4  7.6  8.8 10. ]\n"
     ]
    }
   ],
   "source": [
    "#linspace\n",
    "x = np.linspace(4,10,6)\n",
    "print(x)"
   ]
  },
  {
   "cell_type": "code",
   "execution_count": 49,
   "id": "8e52f2c4",
   "metadata": {},
   "outputs": [
    {
     "name": "stdout",
     "output_type": "stream",
     "text": [
      "[[0.99527592 0.31929498 0.74788398]\n",
      " [0.96496309 0.17468789 0.48592023]]\n"
     ]
    }
   ],
   "source": [
    "#random\n",
    "x = np.random.random((2,3))\n",
    "print(x)"
   ]
  },
  {
   "cell_type": "code",
   "execution_count": 55,
   "id": "8eca725f",
   "metadata": {},
   "outputs": [
    {
     "name": "stdout",
     "output_type": "stream",
     "text": [
      "[[5 2]\n",
      " [2 8]\n",
      " [4 7]]\n"
     ]
    }
   ],
   "source": [
    "#randint\n",
    "x = np.random.randint(2,9,(3,2))\n",
    "print(x)"
   ]
  },
  {
   "cell_type": "code",
   "execution_count": 57,
   "id": "55d729ff",
   "metadata": {
    "scrolled": true
   },
   "outputs": [
    {
     "name": "stdout",
     "output_type": "stream",
     "text": [
      "[[5 2 2]\n",
      " [8 4 7]]\n"
     ]
    }
   ],
   "source": [
    "#reshape\n",
    "y = np.reshape(x,(2,3))\n",
    "print(y)"
   ]
  },
  {
   "cell_type": "markdown",
   "id": "7a5b2f47",
   "metadata": {},
   "source": [
    "### Slicing"
   ]
  },
  {
   "cell_type": "markdown",
   "id": "79649514",
   "metadata": {},
   "source": [
    "#### 1.ndarray[start:end]"
   ]
  },
  {
   "cell_type": "markdown",
   "id": "88c55a35",
   "metadata": {},
   "source": [
    "#### 2.ndarray[start:]"
   ]
  },
  {
   "cell_type": "markdown",
   "id": "89396765",
   "metadata": {},
   "source": [
    "#### 3.ndarray[:end]"
   ]
  },
  {
   "cell_type": "code",
   "execution_count": 1,
   "id": "a5dfc246",
   "metadata": {},
   "outputs": [],
   "source": [
    "import numpy as np"
   ]
  },
  {
   "cell_type": "code",
   "execution_count": 4,
   "id": "4eb3d738",
   "metadata": {},
   "outputs": [
    {
     "name": "stdout",
     "output_type": "stream",
     "text": [
      "[[ 0  1  2  3  4]\n",
      " [ 5  6  7  8  9]\n",
      " [10 11 12 13 14]\n",
      " [15 16 17 18 19]]\n"
     ]
    }
   ],
   "source": [
    "x = np.arange(20).reshape(4,5)\n",
    "print(x)"
   ]
  },
  {
   "cell_type": "code",
   "execution_count": 21,
   "id": "047fff1b",
   "metadata": {},
   "outputs": [
    {
     "name": "stdout",
     "output_type": "stream",
     "text": [
      "[[ 0  1  2  3  4]\n",
      " [ 5  6  7  8  9]\n",
      " [10 11 12 13 14]]\n"
     ]
    }
   ],
   "source": [
    "z = x[0:3]#1\n",
    "print(z)"
   ]
  },
  {
   "cell_type": "code",
   "execution_count": 18,
   "id": "3287ec53",
   "metadata": {},
   "outputs": [
    {
     "name": "stdout",
     "output_type": "stream",
     "text": [
      "[[10 11 12 13 14]\n",
      " [15 16 17 18 19]]\n"
     ]
    }
   ],
   "source": [
    "z = x[2:] #2\n",
    "print(z)"
   ]
  },
  {
   "cell_type": "code",
   "execution_count": 22,
   "id": "e093e360",
   "metadata": {},
   "outputs": [
    {
     "name": "stdout",
     "output_type": "stream",
     "text": [
      "[[0 1 2 3 4]\n",
      " [5 6 7 8 9]]\n"
     ]
    }
   ],
   "source": [
    "z = x[:2] #3\n",
    "print(z)"
   ]
  },
  {
   "cell_type": "code",
   "execution_count": 26,
   "id": "cec4960d",
   "metadata": {},
   "outputs": [
    {
     "name": "stdout",
     "output_type": "stream",
     "text": [
      "[[3 4]\n",
      " [8 9]]\n"
     ]
    }
   ],
   "source": [
    "z = x[0:2, 3:]\n",
    "print(z)"
   ]
  },
  {
   "cell_type": "code",
   "execution_count": 28,
   "id": "681f8547",
   "metadata": {},
   "outputs": [
    {
     "name": "stdout",
     "output_type": "stream",
     "text": [
      "[[0 4]\n",
      " [5 9]]\n"
     ]
    }
   ],
   "source": [
    "z = x[0:2, [0,4]]\n",
    "print(z)"
   ]
  },
  {
   "cell_type": "code",
   "execution_count": 29,
   "id": "2038154e",
   "metadata": {},
   "outputs": [
    {
     "name": "stdout",
     "output_type": "stream",
     "text": [
      "[[ 0  1  2  3  4]\n",
      " [ 5  6  7  8  9]\n",
      " [10 11 12 13 14]\n",
      " [15 16 17 18 19]]\n",
      "[[0 4]\n",
      " [5 9]]\n"
     ]
    }
   ],
   "source": [
    "print(x)\n",
    "print(z)"
   ]
  },
  {
   "cell_type": "code",
   "execution_count": 34,
   "id": "63350e18",
   "metadata": {},
   "outputs": [
    {
     "name": "stdout",
     "output_type": "stream",
     "text": [
      "[[ 0  4]\n",
      " [ 5 99]]\n",
      "[[ 0  1  2  3  4]\n",
      " [ 5  6  7  8  9]\n",
      " [10 11 12 13 14]\n",
      " [15 16 17 18 19]]\n"
     ]
    }
   ],
   "source": [
    "z[1,1] = 99\n",
    "print(z)\n",
    "print(x)"
   ]
  },
  {
   "cell_type": "markdown",
   "id": "c0c47d3a",
   "metadata": {},
   "source": [
    "### Boolean Indexing"
   ]
  },
  {
   "cell_type": "code",
   "execution_count": 35,
   "id": "18faf3ff",
   "metadata": {},
   "outputs": [],
   "source": [
    "import numpy as np"
   ]
  },
  {
   "cell_type": "code",
   "execution_count": 37,
   "id": "3eac0e84",
   "metadata": {},
   "outputs": [
    {
     "name": "stdout",
     "output_type": "stream",
     "text": [
      "[[ 0  1  2  3  4  5  6  7  8  9]\n",
      " [10 11 12 13 14 15 16 17 18 19]\n",
      " [20 21 22 23 24 25 26 27 28 29]\n",
      " [30 31 32 33 34 35 36 37 38 39]\n",
      " [40 41 42 43 44 45 46 47 48 49]]\n"
     ]
    }
   ],
   "source": [
    "x = np.arange(50).reshape(5,10)\n",
    "print(x)"
   ]
  },
  {
   "cell_type": "code",
   "execution_count": 39,
   "id": "00d48ed2",
   "metadata": {},
   "outputs": [
    {
     "name": "stdout",
     "output_type": "stream",
     "text": [
      "[26 27 28 29 30 31 32 33 34 35 36 37 38 39 40 41 42 43 44 45 46 47 48 49]\n"
     ]
    }
   ],
   "source": [
    "y = x[x>25]\n",
    "print(y)"
   ]
  },
  {
   "cell_type": "code",
   "execution_count": 40,
   "id": "a63122cb",
   "metadata": {},
   "outputs": [
    {
     "name": "stdout",
     "output_type": "stream",
     "text": [
      "[ 0  1  2  3  4  5  6  7  8  9 10 11 12 13 14 15 16 17 18 19 20 21 22 23\n",
      " 24 25 26 27 28 29 30 31 32 33 34 35 36 37 38 39 40]\n"
     ]
    }
   ],
   "source": [
    "print(x[x<=40])"
   ]
  },
  {
   "cell_type": "code",
   "execution_count": 43,
   "id": "6c585f56",
   "metadata": {},
   "outputs": [
    {
     "name": "stdout",
     "output_type": "stream",
     "text": [
      "[26 27 28 29]\n"
     ]
    }
   ],
   "source": [
    "print(x[(x>25) & (x<30)])"
   ]
  },
  {
   "cell_type": "code",
   "execution_count": 45,
   "id": "b570892d",
   "metadata": {},
   "outputs": [
    {
     "name": "stdout",
     "output_type": "stream",
     "text": [
      "[[  0   1   2   3   4   5   6   7   8   9]\n",
      " [ 10  11  12  13  14  15  16  17  18  19]\n",
      " [ 20  21  22  23  24  25 777 777 777 777]\n",
      " [ 30  31  32  33  34  35  36  37  38  39]\n",
      " [ 40  41  42  43  44  45  46  47  48  49]]\n"
     ]
    }
   ],
   "source": [
    "x[(x>25) & (x<30)] = 777\n",
    "print(x)"
   ]
  },
  {
   "cell_type": "code",
   "execution_count": 47,
   "id": "bb678287",
   "metadata": {},
   "outputs": [
    {
     "name": "stdout",
     "output_type": "stream",
     "text": [
      "[ 6 22  2 17 11  4  3 14  5 11  3 21 10 13 23  1 21 24 14  2  7 23  2 11\n",
      " 16  3  2 13  3 15 22 22 19  3  7  9  9 16  8 23  3 15 17 17 17 11  2 15\n",
      " 10  2  9 11 23 20 21  3 15 24  4  5  7  3 11  6  3 16 10  8 22 21 17 11\n",
      " 22 23  9 24 16  2  3  9 12 23 19  8 16 18 13 20  8 14 23 17  4 23 23  7\n",
      " 14 19 20 11]\n"
     ]
    }
   ],
   "source": [
    "x = np.random.randint(1,25,size=(100))\n",
    "print(x)"
   ]
  },
  {
   "cell_type": "code",
   "execution_count": 48,
   "id": "195b9e67",
   "metadata": {},
   "outputs": [
    {
     "name": "stdout",
     "output_type": "stream",
     "text": [
      "[20 20 20]\n"
     ]
    }
   ],
   "source": [
    "print(x[x==20])"
   ]
  },
  {
   "cell_type": "markdown",
   "id": "17b93a80",
   "metadata": {},
   "source": [
    "### Arithmetic Operations and Broadcasting"
   ]
  },
  {
   "cell_type": "code",
   "execution_count": 49,
   "id": "6a4ddc52",
   "metadata": {},
   "outputs": [],
   "source": [
    "import numpy as np"
   ]
  },
  {
   "cell_type": "code",
   "execution_count": 50,
   "id": "0034e7c6",
   "metadata": {},
   "outputs": [
    {
     "name": "stdout",
     "output_type": "stream",
     "text": [
      "[0 1 2 3]\n",
      "\n",
      "\n",
      "[4 5 6 7]\n"
     ]
    }
   ],
   "source": [
    "x = np.arange(4)\n",
    "y = np.arange(4,8)\n",
    "print(x)\n",
    "print('\\n')\n",
    "print(y)"
   ]
  },
  {
   "cell_type": "code",
   "execution_count": 51,
   "id": "823c5605",
   "metadata": {},
   "outputs": [
    {
     "name": "stdout",
     "output_type": "stream",
     "text": [
      "[ 4  6  8 10]\n",
      "[ 4  6  8 10]\n"
     ]
    }
   ],
   "source": [
    "print(x+y)\n",
    "print(np.add(x,y))"
   ]
  },
  {
   "cell_type": "code",
   "execution_count": 53,
   "id": "deb9b89c",
   "metadata": {},
   "outputs": [
    {
     "name": "stdout",
     "output_type": "stream",
     "text": [
      "[-4 -4 -4 -4]\n",
      "[-4 -4 -4 -4]\n"
     ]
    }
   ],
   "source": [
    "print(x-y)\n",
    "print(np.subtract(x,y))"
   ]
  },
  {
   "cell_type": "code",
   "execution_count": 54,
   "id": "1571aa24",
   "metadata": {},
   "outputs": [
    {
     "name": "stdout",
     "output_type": "stream",
     "text": [
      "[ 0  5 12 21]\n",
      "[ 0  5 12 21]\n"
     ]
    }
   ],
   "source": [
    "print(x*y)\n",
    "print(np.multiply(x,y))"
   ]
  },
  {
   "cell_type": "code",
   "execution_count": 56,
   "id": "97b16094",
   "metadata": {},
   "outputs": [
    {
     "name": "stdout",
     "output_type": "stream",
     "text": [
      "[0.         0.2        0.33333333 0.42857143]\n",
      "[0.         0.2        0.33333333 0.42857143]\n"
     ]
    }
   ],
   "source": [
    "print(x/y)\n",
    "print(np.divide(x,y))"
   ]
  },
  {
   "cell_type": "code",
   "execution_count": 57,
   "id": "4e890833",
   "metadata": {},
   "outputs": [
    {
     "name": "stdout",
     "output_type": "stream",
     "text": [
      "[[0 1]\n",
      " [2 3]]\n",
      "\n",
      "\n",
      "[[4 5]\n",
      " [6 7]]\n"
     ]
    }
   ],
   "source": [
    "x = np.arange(4).reshape(2,2)\n",
    "y = np.arange(4,8).reshape(2,2)\n",
    "print(x)\n",
    "print('\\n')\n",
    "print(y)"
   ]
  },
  {
   "cell_type": "code",
   "execution_count": 58,
   "id": "437ccc54",
   "metadata": {},
   "outputs": [
    {
     "name": "stdout",
     "output_type": "stream",
     "text": [
      "[[ 4  6]\n",
      " [ 8 10]]\n",
      "[[ 4  6]\n",
      " [ 8 10]]\n"
     ]
    }
   ],
   "source": [
    "print(x+y)\n",
    "print(np.add(x,y))"
   ]
  },
  {
   "cell_type": "code",
   "execution_count": 59,
   "id": "6047cd27",
   "metadata": {},
   "outputs": [
    {
     "name": "stdout",
     "output_type": "stream",
     "text": [
      "[[-4 -4]\n",
      " [-4 -4]]\n",
      "[[-4 -4]\n",
      " [-4 -4]]\n"
     ]
    }
   ],
   "source": [
    "print(x-y)\n",
    "print(np.subtract(x,y))"
   ]
  },
  {
   "cell_type": "code",
   "execution_count": 60,
   "id": "59da30da",
   "metadata": {},
   "outputs": [
    {
     "name": "stdout",
     "output_type": "stream",
     "text": [
      "[[ 0  5]\n",
      " [12 21]]\n",
      "[[ 0  5]\n",
      " [12 21]]\n"
     ]
    }
   ],
   "source": [
    "print(x*y)\n",
    "print(np.multiply(x,y))"
   ]
  },
  {
   "cell_type": "code",
   "execution_count": 61,
   "id": "291e1104",
   "metadata": {},
   "outputs": [
    {
     "name": "stdout",
     "output_type": "stream",
     "text": [
      "[[0.         0.2       ]\n",
      " [0.33333333 0.42857143]]\n",
      "[[0.         0.2       ]\n",
      " [0.33333333 0.42857143]]\n"
     ]
    }
   ],
   "source": [
    "print(x/y)\n",
    "print(np.divide(x,y))"
   ]
  },
  {
   "cell_type": "code",
   "execution_count": 62,
   "id": "263a3851",
   "metadata": {},
   "outputs": [
    {
     "name": "stdout",
     "output_type": "stream",
     "text": [
      "[[0.         1.        ]\n",
      " [1.41421356 1.73205081]]\n"
     ]
    }
   ],
   "source": [
    "print(np.sqrt(x))"
   ]
  },
  {
   "cell_type": "code",
   "execution_count": 63,
   "id": "3e7caffb",
   "metadata": {},
   "outputs": [
    {
     "name": "stdout",
     "output_type": "stream",
     "text": [
      "[[ 1.          2.71828183]\n",
      " [ 7.3890561  20.08553692]]\n"
     ]
    }
   ],
   "source": [
    "print(np.exp(x)) #e^arreglo"
   ]
  },
  {
   "cell_type": "code",
   "execution_count": 64,
   "id": "5781f444",
   "metadata": {},
   "outputs": [
    {
     "name": "stdout",
     "output_type": "stream",
     "text": [
      "[[0 1]\n",
      " [4 9]]\n"
     ]
    }
   ],
   "source": [
    "print(np.power(x,2)) #x,n"
   ]
  },
  {
   "cell_type": "code",
   "execution_count": null,
   "id": "719df2c8",
   "metadata": {},
   "outputs": [],
   "source": [
    "#mean,std,median;promedio,desviacionestandar,mediana"
   ]
  },
  {
   "cell_type": "code",
   "execution_count": 66,
   "id": "c7f481b8",
   "metadata": {},
   "outputs": [
    {
     "name": "stdout",
     "output_type": "stream",
     "text": [
      "[[0 1]\n",
      " [2 3]]\n",
      "[1. 2.]\n",
      "[0.5 2.5]\n"
     ]
    }
   ],
   "source": [
    "print(x)\n",
    "print(np.mean(x,axis=0)) \n",
    "print(np.mean(x,axis=1))"
   ]
  },
  {
   "cell_type": "code",
   "execution_count": 68,
   "id": "aad5bc71",
   "metadata": {},
   "outputs": [
    {
     "name": "stdout",
     "output_type": "stream",
     "text": [
      "1.118033988749895\n"
     ]
    }
   ],
   "source": [
    "print(np.std(x))"
   ]
  },
  {
   "cell_type": "code",
   "execution_count": 69,
   "id": "cfb2ff82",
   "metadata": {},
   "outputs": [
    {
     "name": "stdout",
     "output_type": "stream",
     "text": [
      "1.5\n"
     ]
    }
   ],
   "source": [
    "print(np.median(x))"
   ]
  },
  {
   "cell_type": "code",
   "execution_count": 70,
   "id": "2eaf9bc7",
   "metadata": {},
   "outputs": [
    {
     "name": "stdout",
     "output_type": "stream",
     "text": [
      "3\n"
     ]
    }
   ],
   "source": [
    "print(np.max(x))"
   ]
  },
  {
   "cell_type": "code",
   "execution_count": 71,
   "id": "e385da8d",
   "metadata": {},
   "outputs": [
    {
     "name": "stdout",
     "output_type": "stream",
     "text": [
      "0\n"
     ]
    }
   ],
   "source": [
    "print(np.min(x))"
   ]
  },
  {
   "cell_type": "code",
   "execution_count": 72,
   "id": "9ab79ac7",
   "metadata": {},
   "outputs": [
    {
     "data": {
      "text/plain": [
       "array([[0, 1],\n",
       "       [2, 3]])"
      ]
     },
     "execution_count": 72,
     "metadata": {},
     "output_type": "execute_result"
    }
   ],
   "source": [
    "#Broadcasting\n",
    "x = np.arange(4).reshape(2,2)\n",
    "x"
   ]
  },
  {
   "cell_type": "code",
   "execution_count": 73,
   "id": "d0b42cf0",
   "metadata": {},
   "outputs": [
    {
     "name": "stdout",
     "output_type": "stream",
     "text": [
      "[[4 5]\n",
      " [6 7]]\n"
     ]
    }
   ],
   "source": [
    "print(x+4)"
   ]
  },
  {
   "cell_type": "code",
   "execution_count": 74,
   "id": "0444b8ea",
   "metadata": {},
   "outputs": [
    {
     "data": {
      "text/plain": [
       "array([7, 8])"
      ]
     },
     "execution_count": 74,
     "metadata": {},
     "output_type": "execute_result"
    }
   ],
   "source": [
    "y = np.array([7,8])\n",
    "y"
   ]
  },
  {
   "cell_type": "code",
   "execution_count": 75,
   "id": "804173a1",
   "metadata": {},
   "outputs": [
    {
     "name": "stdout",
     "output_type": "stream",
     "text": [
      "[[ 7  9]\n",
      " [ 9 11]]\n"
     ]
    }
   ],
   "source": [
    "print(x+y)"
   ]
  },
  {
   "cell_type": "code",
   "execution_count": null,
   "id": "4c5878a1",
   "metadata": {},
   "outputs": [],
   "source": []
  },
  {
   "cell_type": "code",
   "execution_count": null,
   "id": "90496e91",
   "metadata": {},
   "outputs": [],
   "source": []
  }
 ],
 "metadata": {
  "kernelspec": {
   "display_name": "Python 3 (ipykernel)",
   "language": "python",
   "name": "python3"
  },
  "language_info": {
   "codemirror_mode": {
    "name": "ipython",
    "version": 3
   },
   "file_extension": ".py",
   "mimetype": "text/x-python",
   "name": "python",
   "nbconvert_exporter": "python",
   "pygments_lexer": "ipython3",
   "version": "3.9.7"
  }
 },
 "nbformat": 4,
 "nbformat_minor": 5
}
