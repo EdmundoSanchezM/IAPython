{
 "cells": [
  {
   "cell_type": "markdown",
   "id": "f9a6a70d",
   "metadata": {},
   "source": [
    "# Python basics"
   ]
  },
  {
   "cell_type": "markdown",
   "id": "8bf17174",
   "metadata": {},
   "source": [
    "### 1. Variables"
   ]
  },
  {
   "cell_type": "code",
   "execution_count": 2,
   "id": "0a1c1772",
   "metadata": {},
   "outputs": [
    {
     "name": "stdout",
     "output_type": "stream",
     "text": [
      "1000\n",
      "<class 'int'>\n",
      "<class 'str'>\n"
     ]
    }
   ],
   "source": [
    "np_population = 1000\n",
    "print(np_population)\n",
    "print(type(np_population))\n",
    "np_population = '1000'\n",
    "print(type(np_population))"
   ]
  },
  {
   "cell_type": "code",
   "execution_count": null,
   "id": "ce2ba8b6",
   "metadata": {},
   "outputs": [],
   "source": [
    "x = 5\n",
    "y = 6\n",
    "z = 7\n",
    "x, y, z = 5, 6, 7\n",
    "np_population, ch_population = 1000, 2000"
   ]
  },
  {
   "cell_type": "code",
   "execution_count": null,
   "id": "167d62c7",
   "metadata": {},
   "outputs": [],
   "source": [
    "# pythonic way: minusculas, _\n",
    "full_name = 'Paul Miller'\n",
    "name = 'Michelle'"
   ]
  },
  {
   "cell_type": "markdown",
   "id": "e433bdca",
   "metadata": {},
   "source": [
    "### 2. Operadores"
   ]
  },
  {
   "cell_type": "markdown",
   "id": "71751f59",
   "metadata": {},
   "source": [
    "#### 2.1 Operadores matematicos"
   ]
  },
  {
   "cell_type": "code",
   "execution_count": 1,
   "id": "34dca0e3",
   "metadata": {},
   "outputs": [
    {
     "name": "stdout",
     "output_type": "stream",
     "text": [
      "23\n",
      "35\n",
      "-1\n",
      "0.75\n"
     ]
    }
   ],
   "source": [
    "# +,-,*,/\n",
    "x, y = 3, 4\n",
    "print(x + y*5)\n",
    "print((x+y)*5)\n",
    "print(x - y)\n",
    "print(x / y)"
   ]
  },
  {
   "cell_type": "code",
   "execution_count": 5,
   "id": "c4686156",
   "metadata": {},
   "outputs": [
    {
     "name": "stdout",
     "output_type": "stream",
     "text": [
      "HelloHelloHelloHello\n",
      "HelloHelloHelloHelloHelloHelloHelloHelloHelloHello\n",
      "Hello6\n"
     ]
    }
   ],
   "source": [
    "word = 'Hello'\n",
    "print(word * 4)\n",
    "print(word * 10)\n",
    "print(word + str(6))\n",
    "# No - ni /"
   ]
  },
  {
   "cell_type": "code",
   "execution_count": 6,
   "id": "1f6db4ce",
   "metadata": {},
   "outputs": [
    {
     "name": "stdout",
     "output_type": "stream",
     "text": [
      "1\n",
      "3\n"
     ]
    }
   ],
   "source": [
    "# % modulo\n",
    "print(9 % 2)\n",
    "print(23 % 10)"
   ]
  },
  {
   "cell_type": "code",
   "execution_count": 7,
   "id": "5196eb4f",
   "metadata": {},
   "outputs": [
    {
     "name": "stdout",
     "output_type": "stream",
     "text": [
      "25\n",
      "42.875\n"
     ]
    }
   ],
   "source": [
    "# **\n",
    "number = 5\n",
    "power = 2\n",
    "print(number ** power)\n",
    "print(3.5 ** 3)"
   ]
  },
  {
   "cell_type": "code",
   "execution_count": 9,
   "id": "c051ae19",
   "metadata": {},
   "outputs": [
    {
     "name": "stdout",
     "output_type": "stream",
     "text": [
      "4\n",
      "3\n",
      "-5\n"
     ]
    }
   ],
   "source": [
    "# // division entera\n",
    "print(9 // 2)\n",
    "print(10 // 3)\n",
    "print(-9 // 2)"
   ]
  },
  {
   "cell_type": "markdown",
   "id": "850cffdc",
   "metadata": {},
   "source": [
    "#### 2.2 Operadores logicos"
   ]
  },
  {
   "cell_type": "code",
   "execution_count": 3,
   "id": "5ae9ba01",
   "metadata": {},
   "outputs": [
    {
     "name": "stdout",
     "output_type": "stream",
     "text": [
      "True\n",
      "False\n"
     ]
    }
   ],
   "source": [
    "# and\n",
    "age = 40\n",
    "is_adult = age > 16 and age < 60\n",
    "\n",
    "user, password = 'root', '123'\n",
    "is_login = user == 'admin' and password == '123'\n",
    "\n",
    "print(is_adult)\n",
    "print(is_login)"
   ]
  },
  {
   "cell_type": "code",
   "execution_count": 6,
   "id": "49cd53de",
   "metadata": {},
   "outputs": [
    {
     "name": "stdout",
     "output_type": "stream",
     "text": [
      "False\n",
      "True\n"
     ]
    }
   ],
   "source": [
    "#not\n",
    "is_not_adult = not(is_adult)\n",
    "is_not_allow = not(is_login)\n",
    "\n",
    "print(is_not_adult)\n",
    "print(is_not_allow)"
   ]
  },
  {
   "cell_type": "code",
   "execution_count": 8,
   "id": "ad565a62",
   "metadata": {},
   "outputs": [
    {
     "name": "stdout",
     "output_type": "stream",
     "text": [
      "False\n"
     ]
    }
   ],
   "source": [
    "# or\n",
    "name = \"Mary\"\n",
    "is_student = name == 'Paul' or name == 'Mark'\n",
    "print(is_student)"
   ]
  },
  {
   "cell_type": "markdown",
   "id": "68e7bb68",
   "metadata": {},
   "source": [
    "### 3. Tipos de datos"
   ]
  },
  {
   "cell_type": "code",
   "execution_count": 10,
   "id": "b75dd3a8",
   "metadata": {},
   "outputs": [
    {
     "name": "stdout",
     "output_type": "stream",
     "text": [
      "<class 'int'> <class 'float'>\n"
     ]
    }
   ],
   "source": [
    "# int, float, string, bool\n",
    "x = int(4.5)\n",
    "y = float(4)\n",
    "print(type(x),type(y))"
   ]
  },
  {
   "cell_type": "code",
   "execution_count": 18,
   "id": "715b9f79",
   "metadata": {},
   "outputs": [
    {
     "name": "stdout",
     "output_type": "stream",
     "text": [
      "False\n",
      "True\n",
      "False\n"
     ]
    }
   ],
   "source": [
    "# >, <, >=, <=, == , !=\n",
    "print(None == 0)\n",
    "print('Hi'> 'Hello')\n",
    "print(4.5 <= 3.5)"
   ]
  },
  {
   "cell_type": "code",
   "execution_count": 19,
   "id": "9cd3859d",
   "metadata": {},
   "outputs": [
    {
     "name": "stdout",
     "output_type": "stream",
     "text": [
      "Welcome to \"McDonald's\"\n"
     ]
    }
   ],
   "source": [
    "word = 'Hello'\n",
    "word_ = \"Hello\"\n",
    "result = 'Welcome to \"McDonald\\'s\"'\n",
    "print(result)"
   ]
  },
  {
   "cell_type": "markdown",
   "id": "99ad47eb",
   "metadata": {},
   "source": [
    "### 4. Funciones"
   ]
  },
  {
   "cell_type": "code",
   "execution_count": 22,
   "id": "0a06922b",
   "metadata": {},
   "outputs": [
    {
     "name": "stdout",
     "output_type": "stream",
     "text": [
      "hello there\n",
      "True\n"
     ]
    }
   ],
   "source": [
    "#lower\n",
    "word = 'hello there'\n",
    "print(word.lower())\n",
    "print(word.islower())"
   ]
  },
  {
   "cell_type": "code",
   "execution_count": 24,
   "id": "299959e2",
   "metadata": {},
   "outputs": [
    {
     "name": "stdout",
     "output_type": "stream",
     "text": [
      "3\n",
      "1\n"
     ]
    }
   ],
   "source": [
    "#count\n",
    "print(word.count('e'))\n",
    "print(word.find('e'))"
   ]
  },
  {
   "cell_type": "code",
   "execution_count": 26,
   "id": "0895828e",
   "metadata": {},
   "outputs": [
    {
     "name": "stdout",
     "output_type": "stream",
     "text": [
      "Welcome Knekro to the AI course\n",
      "Mary has 4 pets\n"
     ]
    }
   ],
   "source": [
    "#format\n",
    "print('Welcome {} to the AI course'.format('Knekro'))\n",
    "print('{} has {} pets'.format('Mary',4))"
   ]
  },
  {
   "cell_type": "code",
   "execution_count": 35,
   "id": "5bc093c5",
   "metadata": {},
   "outputs": [
    {
     "name": "stdout",
     "output_type": "stream",
     "text": [
      "I like extreme sports\n",
      "['I', 'like', 'extreme', 'sports']\n",
      "['I', 'like', 'extreme sports']\n",
      "['I', 'like', 'extreme', 'sports']\n"
     ]
    }
   ],
   "source": [
    "#split\n",
    "new_word = 'I like extreme sports'\n",
    "print(new_word)\n",
    "print(new_word.split())\n",
    "print(new_word.split(' ', 2))\n",
    "new_word = 'I-like-extreme-sports'\n",
    "print(new_word.split('-'))"
   ]
  },
  {
   "cell_type": "code",
   "execution_count": null,
   "id": "1032cb78",
   "metadata": {},
   "outputs": [],
   "source": []
  }
 ],
 "metadata": {
  "kernelspec": {
   "display_name": "Python 3 (ipykernel)",
   "language": "python",
   "name": "python3"
  },
  "language_info": {
   "codemirror_mode": {
    "name": "ipython",
    "version": 3
   },
   "file_extension": ".py",
   "mimetype": "text/x-python",
   "name": "python",
   "nbconvert_exporter": "python",
   "pygments_lexer": "ipython3",
   "version": "3.9.7"
  }
 },
 "nbformat": 4,
 "nbformat_minor": 5
}
