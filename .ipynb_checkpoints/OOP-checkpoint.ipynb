{
 "cells": [
  {
   "cell_type": "markdown",
   "id": "66cde63f",
   "metadata": {},
   "source": [
    "# Object-Oriented Programming"
   ]
  },
  {
   "cell_type": "markdown",
   "id": "aab993c4",
   "metadata": {},
   "source": [
    "# Class"
   ]
  },
  {
   "cell_type": "markdown",
   "id": "ec1aad22",
   "metadata": {},
   "source": [
    "# Object"
   ]
  },
  {
   "cell_type": "markdown",
   "id": "4ed0badc",
   "metadata": {},
   "source": [
    "# Attibute"
   ]
  },
  {
   "cell_type": "markdown",
   "id": "7d378c23",
   "metadata": {},
   "source": [
    "# Method"
   ]
  },
  {
   "cell_type": "code",
   "execution_count": 13,
   "id": "d9bd0897",
   "metadata": {},
   "outputs": [],
   "source": [
    "class Worker:\n",
    "    \n",
    "    def __init__(self, name, age):\n",
    "        self.name = name\n",
    "        self.age = age\n",
    "    \n",
    "    def set_salary(self, salary):\n",
    "        self.salary = salary\n",
    "        \n",
    "    def get_net_salary(self):\n",
    "        return self.salary * 0.9"
   ]
  },
  {
   "cell_type": "code",
   "execution_count": 14,
   "id": "4c82ddc3",
   "metadata": {},
   "outputs": [
    {
     "name": "stdout",
     "output_type": "stream",
     "text": [
      "<__main__.Worker object at 0x0000014E066B03A0>\n",
      "None\n",
      "Juan\n",
      "40\n",
      "500\n",
      "450.0\n"
     ]
    }
   ],
   "source": [
    "worker_one = Worker('Juan',40)\n",
    "print(worker_one)\n",
    "print(worker_one.set_salary(500))\n",
    "print(worker_one.name)\n",
    "print(worker_one.age)\n",
    "print(worker_one.salary)\n",
    "print(worker_one.get_net_salary())"
   ]
  },
  {
   "cell_type": "code",
   "execution_count": 15,
   "id": "17f4f22c",
   "metadata": {},
   "outputs": [
    {
     "name": "stdout",
     "output_type": "stream",
     "text": [
      "Jose\n",
      "50\n"
     ]
    }
   ],
   "source": [
    "worker_one.name = 'Jose'\n",
    "print(worker_one.name)\n",
    "\n",
    "worker_one.age = 50\n",
    "print(worker_one.age)"
   ]
  },
  {
   "cell_type": "markdown",
   "id": "3163c6c7",
   "metadata": {},
   "source": [
    "# Herencia"
   ]
  },
  {
   "cell_type": "code",
   "execution_count": 19,
   "id": "4a125800",
   "metadata": {},
   "outputs": [],
   "source": [
    "class Doctor(Worker):\n",
    "    \n",
    "    def __init__(self, name, age, especialidad):\n",
    "        Worker.__init__(self, name, age)\n",
    "        self.especialidad = especialidad\n",
    "    \n",
    "    def schedule_operation(self):\n",
    "        if self.especialidad == 'cardiologo':\n",
    "            return '8 am'\n",
    "        elif self.especialidad == 'neurologo':\n",
    "            return '4 pm'\n",
    "        else:\n",
    "            return '12 pm'\n",
    "        \n",
    "    def get_net_salary(self):\n",
    "        Worker.set_salary(self, 1000)\n",
    "        if self.especialidad == 'cardiologo':\n",
    "            return self.salary * 1.5\n",
    "        elif self.especialidad == 'neurologo':\n",
    "            return self.salary * 2\n",
    "        else:\n",
    "            return self.salary"
   ]
  },
  {
   "cell_type": "code",
   "execution_count": 23,
   "id": "9968be50",
   "metadata": {},
   "outputs": [
    {
     "name": "stdout",
     "output_type": "stream",
     "text": [
      "45\n",
      "8 am\n",
      "1500.0\n"
     ]
    }
   ],
   "source": [
    "doctor = Doctor('Luis',45,'cardiologo')\n",
    "print(doctor.age)\n",
    "print(doctor.schedule_operation())\n",
    "print(doctor.get_net_salary())"
   ]
  },
  {
   "cell_type": "code",
   "execution_count": null,
   "id": "4a149ea7",
   "metadata": {},
   "outputs": [],
   "source": []
  }
 ],
 "metadata": {
  "kernelspec": {
   "display_name": "Python 3 (ipykernel)",
   "language": "python",
   "name": "python3"
  },
  "language_info": {
   "codemirror_mode": {
    "name": "ipython",
    "version": 3
   },
   "file_extension": ".py",
   "mimetype": "text/x-python",
   "name": "python",
   "nbconvert_exporter": "python",
   "pygments_lexer": "ipython3",
   "version": "3.9.7"
  }
 },
 "nbformat": 4,
 "nbformat_minor": 5
}
