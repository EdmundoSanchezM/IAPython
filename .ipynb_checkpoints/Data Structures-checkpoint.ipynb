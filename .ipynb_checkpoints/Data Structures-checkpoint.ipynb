{
 "cells": [
  {
   "cell_type": "markdown",
   "id": "f9a6a70d",
   "metadata": {},
   "source": [
    "# Data Structures"
   ]
  },
  {
   "cell_type": "markdown",
   "id": "8bf17174",
   "metadata": {},
   "source": [
    "### 1. Listas"
   ]
  },
  {
   "cell_type": "code",
   "execution_count": 9,
   "id": "0a1c1772",
   "metadata": {},
   "outputs": [
    {
     "name": "stdout",
     "output_type": "stream",
     "text": [
      "[60, 7.8, 'String', True]\n",
      "60\n",
      "True\n",
      "[7.8]\n",
      "[60, 7.8]\n",
      "[7.8, 'String', True]\n"
     ]
    }
   ],
   "source": [
    "list_things = [60 , 7.8, 'String', True]\n",
    "print(list_things)\n",
    "print(list_things[0])\n",
    "print(list_things[-1])\n",
    "\n",
    "#Slicing\n",
    "print(list_things[1:2])\n",
    "\n",
    "print(list_things[:2])\n",
    "print(list_things[1:])"
   ]
  },
  {
   "cell_type": "code",
   "execution_count": 13,
   "id": "ce2ba8b6",
   "metadata": {},
   "outputs": [
    {
     "name": "stdout",
     "output_type": "stream",
     "text": [
      "True\n",
      "False\n"
     ]
    }
   ],
   "source": [
    "#not in, in\n",
    "list_numbers = [1, 2, 3, 4, 5]\n",
    "print(2 in list_numbers)\n",
    "print(2 not in list_numbers)"
   ]
  },
  {
   "cell_type": "code",
   "execution_count": 3,
   "id": "167d62c7",
   "metadata": {},
   "outputs": [
    {
     "name": "stdout",
     "output_type": "stream",
     "text": [
      "['tres', 4, 5, 6]\n",
      "H\n"
     ]
    }
   ],
   "source": [
    "# Mutability\n",
    "numbers = [3, 4, 5, 6]\n",
    "numbers[0] = 'tres'\n",
    "print(numbers)\n",
    "\n",
    "word = 'Hello there'\n",
    "print(word[0])\n",
    "#word[0] = 'J'"
   ]
  },
  {
   "cell_type": "code",
   "execution_count": 4,
   "id": "8a20a72a",
   "metadata": {},
   "outputs": [
    {
     "name": "stdout",
     "output_type": "stream",
     "text": [
      "tres\n",
      "e\n"
     ]
    }
   ],
   "source": [
    "#order\n",
    "print(numbers[0])\n",
    "print(word[1])"
   ]
  },
  {
   "cell_type": "markdown",
   "id": "d864a0f0",
   "metadata": {},
   "source": [
    "#### Metodos"
   ]
  },
  {
   "cell_type": "code",
   "execution_count": 1,
   "id": "52798be1",
   "metadata": {},
   "outputs": [
    {
     "name": "stdout",
     "output_type": "stream",
     "text": [
      "5\n",
      "4\n"
     ]
    }
   ],
   "source": [
    "# len\n",
    "numbers = [40, 50, 2, 34, 5]\n",
    "letters = ['b', 'y', 'u' ,'i']\n",
    "print(len(numbers))\n",
    "print(len(letters))"
   ]
  },
  {
   "cell_type": "code",
   "execution_count": 6,
   "id": "d6d49bca",
   "metadata": {},
   "outputs": [
    {
     "name": "stdout",
     "output_type": "stream",
     "text": [
      "50\n",
      "y\n"
     ]
    }
   ],
   "source": [
    "# max, solo con el mismo tipo de elemento\n",
    "list_mix = [34 ,'y', 9.6]\n",
    "print(max(numbers))\n",
    "print(max(letters))\n",
    "#print(max(list_mix))"
   ]
  },
  {
   "cell_type": "code",
   "execution_count": 7,
   "id": "3f08c4e0",
   "metadata": {},
   "outputs": [
    {
     "name": "stdout",
     "output_type": "stream",
     "text": [
      "2\n",
      "b\n"
     ]
    }
   ],
   "source": [
    "print(min(numbers))\n",
    "print(min(letters))"
   ]
  },
  {
   "cell_type": "code",
   "execution_count": 8,
   "id": "9a776af3",
   "metadata": {},
   "outputs": [
    {
     "name": "stdout",
     "output_type": "stream",
     "text": [
      "[2, 5, 34, 40, 50]\n",
      "[40, 50, 2, 34, 5]\n"
     ]
    }
   ],
   "source": [
    "# sorte, copia de lista ordenada\n",
    "print(sorted(numbers))\n",
    "print(numbers)"
   ]
  },
  {
   "cell_type": "code",
   "execution_count": 10,
   "id": "f48d873c",
   "metadata": {},
   "outputs": [
    {
     "name": "stdout",
     "output_type": "stream",
     "text": [
      "Hola - Mundo - uwu\n",
      "Hola & Mundo & ewe\n"
     ]
    }
   ],
   "source": [
    "# join\n",
    "print(' - '.join(['Hola', 'Mundo', 'uwu']))\n",
    "print(' & '.join(['Hola', 'Mundo', 'ewe']))"
   ]
  },
  {
   "cell_type": "code",
   "execution_count": 19,
   "id": "eab5ce71",
   "metadata": {},
   "outputs": [
    {
     "name": "stdout",
     "output_type": "stream",
     "text": [
      "['a', 'b', 'g', 'f', 'm', 7, ['n', 'h']]\n",
      "['a', 'b', 'g', 'f', 'm', 7, ['n', 'h'], 'n', 'h']\n",
      "['a', 'b', 'g', 'f', 'm', 7, ['n', 'h'], 'n', 'h', 'p', 8]\n",
      "['b', 'g', 'f', 'm', 7, ['n', 'h'], 'n', 'h', 'p', 8]\n",
      "['b', 'g', 'f', 'm', 7, ['n', 'h'], 'n', 'h', 'p']\n"
     ]
    }
   ],
   "source": [
    "# append\n",
    "letters = ['a' ,'b' , 'g', 'f']\n",
    "letters.append('m')\n",
    "letters.append(7)\n",
    "letters.append(['n','h'])\n",
    "print(letters)\n",
    "\n",
    "# extend\n",
    "letters.extend(['n','h'])\n",
    "print(letters)\n",
    "letters = letters+ ['p',8] \n",
    "print(letters )\n",
    "\n",
    "# remove\n",
    "letters.remove('a')\n",
    "print(letters)\n",
    "# pop\n",
    "letters.pop(-1)\n",
    "print(letters)"
   ]
  },
  {
   "cell_type": "markdown",
   "id": "e433bdca",
   "metadata": {},
   "source": [
    "### 2. Tuplas"
   ]
  },
  {
   "cell_type": "code",
   "execution_count": 25,
   "id": "8a7f9ffb",
   "metadata": {},
   "outputs": [
    {
     "name": "stdout",
     "output_type": "stream",
     "text": [
      "34.567\n",
      "dimensions length: 45 width: 67 height: 90\n"
     ]
    }
   ],
   "source": [
    "#No modificable\n",
    "location_home = (34.567, 56.890)\n",
    "print(location_home[0])\n",
    "#location_home[0] = 67.78\n",
    "\n",
    "dimensions = 45, 67, 90\n",
    "length, width, height = dimensions\n",
    "print('dimensions length: {} width: {} height: {}'.format(length, width, height))"
   ]
  },
  {
   "cell_type": "markdown",
   "id": "68e7bb68",
   "metadata": {},
   "source": [
    "### 3. Sets"
   ]
  },
  {
   "cell_type": "code",
   "execution_count": 6,
   "id": "b75dd3a8",
   "metadata": {},
   "outputs": [
    {
     "name": "stdout",
     "output_type": "stream",
     "text": [
      "{4, 6, 8, 9, 10}\n",
      "False\n",
      "{'mango', 'orange', 'pera', 'apple', 'banana'}\n",
      "{'orange', 'pera', 'apple', 'banana'}\n"
     ]
    }
   ],
   "source": [
    "numbers = [4, 6, 8, 8, 9, 10, 10]\n",
    "unique_numbers = set(numbers)\n",
    "print(unique_numbers)\n",
    "\n",
    "fruits = {'banana', 'apple', 'orange'}\n",
    "print('mango' in fruits)\n",
    "\n",
    "fruits.add('mango')#en cualquier posicion\n",
    "fruits.add('pera')\n",
    "print(fruits)\n",
    "\n",
    "fruits.pop()#elimina de manera random\n",
    "print(fruits)"
   ]
  },
  {
   "cell_type": "markdown",
   "id": "99ad47eb",
   "metadata": {},
   "source": [
    "### 4. Diccionarios"
   ]
  },
  {
   "cell_type": "code",
   "execution_count": 13,
   "id": "0a06922b",
   "metadata": {},
   "outputs": [
    {
     "name": "stdout",
     "output_type": "stream",
     "text": [
      "30\n",
      "Not found\n",
      "Steven\n",
      "New York\n"
     ]
    }
   ],
   "source": [
    "elements = {'name': 'Mark', 'lastname': 'Harris', 'age': 30}\n",
    "print(elements['age'])\n",
    "\n",
    "#get: buscar una llave, si no existe es None si colocamos un segundo argumento sera este el que nos de \n",
    "print(elements.get('Hobbie','Not found'))\n",
    "\n",
    "dic_students = {1: 'Steven', 2: 'John', 3: 'Paul'}\n",
    "print(dic_students.get(1))\n",
    "\n",
    "dic_coordenadas = {(100,400):'New York', (300, 500): 'Florida'}\n",
    "print(dic_coordenadas.get((100,400)))"
   ]
  },
  {
   "cell_type": "code",
   "execution_count": 22,
   "id": "299959e2",
   "metadata": {},
   "outputs": [
    {
     "name": "stdout",
     "output_type": "stream",
     "text": [
      "{1: 'Juan', 2: 'Julian'}\n",
      "{1: 'Juan', 2: 'Julian', 3: 'Mario'}\n",
      "{2: 'Julian', 3: 'Mario'}\n",
      "False\n",
      "False\n",
      "True\n"
     ]
    }
   ],
   "source": [
    "dic_workers = {1: 'Juan', 2: 'Julian'}\n",
    "print(dic_workers)\n",
    "\n",
    "dic_workers[3] = 'Mario' #agregando elemento\n",
    "print(dic_workers)\n",
    "\n",
    "dic_workers.pop(1) #pop eliminando el elemento n, n siendo indice\n",
    "print(dic_workers)\n",
    "\n",
    "#not in, in\n",
    "\n",
    "print('Juan' in dic_workers) #Claves\n",
    "print(2 not in dic_workers) #Claves\n",
    "print('Mario' in dic_workers.values()) #Ahora valores"
   ]
  }
 ],
 "metadata": {
  "kernelspec": {
   "display_name": "Python 3 (ipykernel)",
   "language": "python",
   "name": "python3"
  },
  "language_info": {
   "codemirror_mode": {
    "name": "ipython",
    "version": 3
   },
   "file_extension": ".py",
   "mimetype": "text/x-python",
   "name": "python",
   "nbconvert_exporter": "python",
   "pygments_lexer": "ipython3",
   "version": "3.9.7"
  }
 },
 "nbformat": 4,
 "nbformat_minor": 5
}
